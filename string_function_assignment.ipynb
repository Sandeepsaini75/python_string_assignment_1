{
 "cells": [
  {
   "cell_type": "markdown",
   "id": "28e1630d-f697-4d19-89f2-cb3a69573c3b",
   "metadata": {},
   "source": [
    "# string method"
   ]
  },
  {
   "cell_type": "markdown",
   "id": "012a2c94-f72f-4ead-9018-229da5aba610",
   "metadata": {},
   "source": [
    "1. How do you concatenate two strings in Python?"
   ]
  },
  {
   "cell_type": "code",
   "execution_count": 3,
   "id": "f07b319e-5678-490f-8fb2-eee9db548856",
   "metadata": {},
   "outputs": [
    {
     "name": "stdout",
     "output_type": "stream",
     "text": [
      "Hello World\n"
     ]
    }
   ],
   "source": [
    "a = \"Hello\"\n",
    "b = \"World\"\n",
    "c = a + \" \" + b  #  Do strings ko jodne ke liye + use karte hain.\n",
    "print(c)"
   ]
  },
  {
   "cell_type": "markdown",
   "id": "86703686-fc8d-4647-9f89-75b0b937fabb",
   "metadata": {},
   "source": [
    "2. What is the difference between the + operator and the join() method for\n",
    "concatenating strings?"
   ]
  },
  {
   "cell_type": "code",
   "execution_count": 5,
   "id": "759da53a-ca57-4399-ae7d-ace2a349e822",
   "metadata": {},
   "outputs": [
    {
     "name": "stdout",
     "output_type": "stream",
     "text": [
      "Hello World\n",
      "Hello World\n"
     ]
    }
   ],
   "source": [
    "# Using +\n",
    "x = \"Hello\" + \" \" + \"World\"\n",
    "print(x)   #  + chhoti strings ke liye,\n",
    "\n",
    "# Using join()\n",
    "y = \" \".join([\"Hello\", \"World\"])\n",
    "print(y)   #  join() bohot strings ke liye fast hai.\n"
   ]
  },
  {
   "cell_type": "markdown",
   "id": "c15e3887-e0c3-4401-80bb-d81af0af5cc0",
   "metadata": {},
   "source": [
    "3. How do you access individual characters in a string?"
   ]
  },
  {
   "cell_type": "code",
   "execution_count": 9,
   "id": "1a94581e-08ae-476f-9e1b-19665616067b",
   "metadata": {},
   "outputs": [
    {
     "name": "stdout",
     "output_type": "stream",
     "text": [
      "P\n",
      "n\n"
     ]
    }
   ],
   "source": [
    "s = \"Python\"\n",
    "print(s[0])   #  Indexing se string ka specific character milta hai.\n",
    "print(s[-1]) \n"
   ]
  },
  {
   "cell_type": "markdown",
   "id": "44e3e134-a746-47fa-a141-7e0cac802a4b",
   "metadata": {},
   "source": [
    "4. What method is used to find the length of a string in Python?\n"
   ]
  },
  {
   "cell_type": "code",
   "execution_count": 10,
   "id": "0e5dcf54-d04f-492e-933b-438ffbd7d679",
   "metadata": {},
   "outputs": [
    {
     "name": "stdout",
     "output_type": "stream",
     "text": [
      "6\n"
     ]
    }
   ],
   "source": [
    "s = \"Python\"\n",
    "print(len(s))  #  len() se string me kitne characters hain, ye pata chalta hai."
   ]
  },
  {
   "cell_type": "markdown",
   "id": "9844e2a5-6cc0-4d22-af30-c3272746f93c",
   "metadata": {},
   "source": [
    "5. How can you convert a string to uppercase in Python?\n"
   ]
  },
  {
   "cell_type": "code",
   "execution_count": 11,
   "id": "761cc74b-7d7c-4da7-8eee-acf3af07e2dd",
   "metadata": {},
   "outputs": [
    {
     "name": "stdout",
     "output_type": "stream",
     "text": [
      "HELLO\n"
     ]
    }
   ],
   "source": [
    "s = \"hello\"\n",
    "print(s.upper())   #  .upper() saare letters ko bada kar deta hai.\n"
   ]
  },
  {
   "cell_type": "markdown",
   "id": "aee96298-63c5-4c0b-9554-a3d627e77eca",
   "metadata": {},
   "source": [
    "6. How can you convert a string to lowercase in Python?"
   ]
  },
  {
   "cell_type": "code",
   "execution_count": 12,
   "id": "df8189d4-aca0-47c0-a8a2-c73470b3636e",
   "metadata": {},
   "outputs": [
    {
     "name": "stdout",
     "output_type": "stream",
     "text": [
      "hello\n"
     ]
    }
   ],
   "source": [
    "s = \"HELLO\"\n",
    "print(s.lower())   # .lower() saare letters ko chhota kar deta hai."
   ]
  },
  {
   "cell_type": "markdown",
   "id": "361106c3-b0b6-4f6e-8c2d-516e3905da71",
   "metadata": {},
   "source": [
    "7. What method is used to replace substrings within a string?\n"
   ]
  },
  {
   "cell_type": "code",
   "execution_count": 13,
   "id": "dbeb98e3-16cc-4130-a609-48847b2964e6",
   "metadata": {},
   "outputs": [
    {
     "name": "stdout",
     "output_type": "stream",
     "text": [
      "Hello Python\n"
     ]
    }
   ],
   "source": [
    "s = \"Hello World\"\n",
    "print(s.replace(\"World\", \"Python\"))   #  .replace() ek substring ko doosre se badal deta hai."
   ]
  },
  {
   "cell_type": "markdown",
   "id": "0895b531-5bfe-4350-8ba2-fbb95fbf94dc",
   "metadata": {},
   "source": [
    "8. How can you split a string into a list of substrings based on a delimiter?"
   ]
  },
  {
   "cell_type": "code",
   "execution_count": 14,
   "id": "3fbdecf8-be52-43df-82f6-906632de2a3e",
   "metadata": {},
   "outputs": [
    {
     "name": "stdout",
     "output_type": "stream",
     "text": [
      "['apple', 'banana', 'grape']\n"
     ]
    }
   ],
   "source": [
    "s = \"apple,banana,grape\"\n",
    "print(s.split(\",\"))   #  .split() string ko tod ke list banata hai."
   ]
  },
  {
   "cell_type": "markdown",
   "id": "649d23f7-cd3d-41db-925e-a907d825098b",
   "metadata": {},
   "source": [
    "9. How do you check if a string starts with a particular substring?"
   ]
  },
  {
   "cell_type": "code",
   "execution_count": 15,
   "id": "9126422a-1f79-45a8-b441-ca3c6103c3f1",
   "metadata": {},
   "outputs": [
    {
     "name": "stdout",
     "output_type": "stream",
     "text": [
      "True\n"
     ]
    }
   ],
   "source": [
    "s = \"Python\"\n",
    "print(s.startswith(\"Py\"))   #  .startswith() se check karte hain string kis se shuru hoti hai."
   ]
  },
  {
   "cell_type": "markdown",
   "id": "0e3b11d7-c53a-41f5-8d52-2d39018be1e2",
   "metadata": {},
   "source": [
    "10. How do you check if a string ends with a particular substring?"
   ]
  },
  {
   "cell_type": "code",
   "execution_count": 16,
   "id": "c9810945-e5d6-4648-957d-bf6664e9dd1f",
   "metadata": {},
   "outputs": [
    {
     "name": "stdout",
     "output_type": "stream",
     "text": [
      "True\n"
     ]
    }
   ],
   "source": [
    "s = \"Python\"\n",
    "print(s.endswith(\"on\"))   #  .endswith() se check karte hain string kis pe khatam hoti hai."
   ]
  },
  {
   "cell_type": "markdown",
   "id": "db683d4c-0af5-4da9-8e75-e94ebdfcf279",
   "metadata": {},
   "source": [
    "11. How can you remove leading and trailing whitespace from a string?"
   ]
  },
  {
   "cell_type": "code",
   "execution_count": 17,
   "id": "fc8b682f-b720-4e8f-8486-2dac791a4147",
   "metadata": {},
   "outputs": [
    {
     "name": "stdout",
     "output_type": "stream",
     "text": [
      "hello\n"
     ]
    }
   ],
   "source": [
    "s = \"   hello   \"\n",
    "print(s.strip())   #  .strip() extra spaces hata deta hai (aage-piche se)."
   ]
  },
  {
   "cell_type": "markdown",
   "id": "df4c5351-4278-4ad2-b821-7cdc7e26cc85",
   "metadata": {},
   "source": [
    "12. What method is used to find the index of the first occurrence of a substring within a string?"
   ]
  },
  {
   "cell_type": "code",
   "execution_count": 18,
   "id": "587028f4-f752-4e81-86e6-d4a8f521f513",
   "metadata": {},
   "outputs": [
    {
     "name": "stdout",
     "output_type": "stream",
     "text": [
      "2\n"
     ]
    }
   ],
   "source": [
    "s = \"banana\"\n",
    "print(s.find(\"na\"))   #  .find() first occurrence ka index return karta hai."
   ]
  },
  {
   "cell_type": "markdown",
   "id": "384a5204-a530-47c9-b6cd-1d8b99daec11",
   "metadata": {},
   "source": [
    "13. How can you count the number of occurrences of a substring within a string?"
   ]
  },
  {
   "cell_type": "code",
   "execution_count": 19,
   "id": "53db8fbc-39db-4250-ad12-0116933cee3d",
   "metadata": {},
   "outputs": [
    {
     "name": "stdout",
     "output_type": "stream",
     "text": [
      "2\n"
     ]
    }
   ],
   "source": [
    "s = \"banana\"\n",
    "print(s.count(\"na\"))   #  .count() batata hai ek substring kitni baar aayi hai."
   ]
  },
  {
   "cell_type": "markdown",
   "id": "f6678b59-97d0-4fb5-9d91-a2f738451e55",
   "metadata": {},
   "source": [
    "14. How do you check if a string contains only alphabetic characters?"
   ]
  },
  {
   "cell_type": "code",
   "execution_count": 20,
   "id": "470b9491-b1d5-4ebe-8937-c768bd930c45",
   "metadata": {},
   "outputs": [
    {
     "name": "stdout",
     "output_type": "stream",
     "text": [
      "True\n",
      "False\n"
     ]
    }
   ],
   "source": [
    "s1 = \"Hello\"\n",
    "s2 = \"Hello123\"\n",
    "print(s1.isalpha())  \n",
    "print(s2.isalpha())   #  .isalpha() check karta hai ki string sirf letters se bani hai ya nahi."
   ]
  },
  {
   "cell_type": "markdown",
   "id": "56f2c3a7-736f-48cd-a35b-990e42d077ee",
   "metadata": {},
   "source": [
    "15. How do you check if a string contains only numeric characters?"
   ]
  },
  {
   "cell_type": "code",
   "execution_count": 21,
   "id": "1d3a01e2-92f2-4111-b301-df28d3822008",
   "metadata": {},
   "outputs": [
    {
     "name": "stdout",
     "output_type": "stream",
     "text": [
      "True\n",
      "False\n"
     ]
    }
   ],
   "source": [
    "s1 = \"12345\"\n",
    "s2 = \"123abc\"\n",
    "print(s1.isdigit())   # .isdigit() check karta hai ki string sirf digits (0–9) hai ya nahi.\n",
    "print(s2.isdigit())   # use : User input validate karne ke liye (like phone number, OTP)."
   ]
  },
  {
   "cell_type": "markdown",
   "id": "4be28b48-9443-44e2-8ea5-636ad437a626",
   "metadata": {},
   "source": [
    "16. How can you check if a string is a palindrome?"
   ]
  },
  {
   "cell_type": "code",
   "execution_count": 22,
   "id": "b87310e8-cbfc-4e82-b594-8d15ad9f8648",
   "metadata": {},
   "outputs": [
    {
     "name": "stdout",
     "output_type": "stream",
     "text": [
      "True\n"
     ]
    }
   ],
   "source": [
    "s = \"madam\"\n",
    "print(s == s[::-1]) \n",
    "# s[::-1] string ko ulta karta hai, phir compare karte hain.\n",
    "# use: Pattern checking (e.g., racecar, madam)."
   ]
  },
  {
   "cell_type": "markdown",
   "id": "0a34ca33-282f-461f-a2a9-24ad644267db",
   "metadata": {},
   "source": [
    "17. How can you reverse a string in Python?"
   ]
  },
  {
   "cell_type": "code",
   "execution_count": 23,
   "id": "504757fc-6924-4bb9-a453-a297146ac239",
   "metadata": {},
   "outputs": [
    {
     "name": "stdout",
     "output_type": "stream",
     "text": [
      "nohtyP\n"
     ]
    }
   ],
   "source": [
    "s = \"Python\"\n",
    "print(s[::-1]) \n",
    "# [::-1] ka matlab hai poori string ko peeche se aage padhna.\n",
    "# use: Jab string ka ulta form chahiye ho."
   ]
  },
  {
   "cell_type": "markdown",
   "id": "37e18e5a-6ea1-49f2-87f3-aa018bdd4f15",
   "metadata": {},
   "source": [
    "18. How do you format a string with placeholders for variable values?"
   ]
  },
  {
   "cell_type": "code",
   "execution_count": 24,
   "id": "347df84d-4848-4b84-a0ee-e64262c78390",
   "metadata": {},
   "outputs": [
    {
     "name": "stdout",
     "output_type": "stream",
     "text": [
      "My name is Sandeep and I am 21 years old.\n",
      "My name is Sandeep and I am 21 years old.\n"
     ]
    }
   ],
   "source": [
    "name = \"Sandeep\"\n",
    "age = 21\n",
    "print(f\"My name is {name} and I am {age} years old.\")  \n",
    "# OR\n",
    "print(\"My name is {} and I am {} years old.\".format(name, age))\n",
    "# Variables ko string me directly insert karna.\n",
    "# use: Dynamic output banane ke liye."
   ]
  },
  {
   "cell_type": "markdown",
   "id": "0376b2d7-1931-4eec-b07d-a8aef2b9c594",
   "metadata": {},
   "source": [
    "19. How do you access a substring of a string using slicing?"
   ]
  },
  {
   "cell_type": "code",
   "execution_count": 25,
   "id": "9a41dc36-bd55-45f7-886f-4281a9783d9c",
   "metadata": {},
   "outputs": [
    {
     "name": "stdout",
     "output_type": "stream",
     "text": [
      "Hello\n",
      "World\n"
     ]
    }
   ],
   "source": [
    "s = \"HelloWorld\"\n",
    "print(s[0:5])   \n",
    "print(s[5:])    \n",
    "# Matlab: Index ke range dekar substring nikalte hain.\n",
    "# use: String ka ek part chahiye ho.\n",
    "\n"
   ]
  },
  {
   "cell_type": "markdown",
   "id": "3b3af57e-34c2-441b-a668-81431b1cf5a6",
   "metadata": {},
   "source": [
    "20. How can you remove specific characters from a string in Python?"
   ]
  },
  {
   "cell_type": "code",
   "execution_count": 27,
   "id": "6ac621fd-0320-4b3d-ad46-407c87f22f8e",
   "metadata": {},
   "outputs": [
    {
     "name": "stdout",
     "output_type": "stream",
     "text": [
      "Hell Wrld!\n"
     ]
    }
   ],
   "source": [
    "# 👉 Using .replace() or translate()\n",
    "\n",
    "s = \"Hello World!\"\n",
    "print(s.replace(\"o\", \"\")) "
   ]
  },
  {
   "cell_type": "code",
   "execution_count": 26,
   "id": "e57e21d8-4e14-4c5c-92ac-7c9bcc695447",
   "metadata": {},
   "outputs": [
    {
     "name": "stdout",
     "output_type": "stream",
     "text": [
      "Hell Wrld!\n"
     ]
    }
   ],
   "source": [
    "# 👉 Using translate() (advanced)\n",
    "\n",
    "s = \"Hello World!\"\n",
    "print(s.translate({ord(\"o\"): None}))  \n",
    "\n",
    "#  replace unwanted character ko khali string se replace kar deta hai."
   ]
  },
  {
   "cell_type": "markdown",
   "id": "de662ab1-7185-4170-8a38-ccef6b73971c",
   "metadata": {},
   "source": [
    "21. "
   ]
  },
  {
   "cell_type": "code",
   "execution_count": 30,
   "id": "de0d3e07-6a1e-4918-a106-46f738fb87ff",
   "metadata": {},
   "outputs": [
    {
     "name": "stdout",
     "output_type": "stream",
     "text": [
      "one two three 45\n"
     ]
    }
   ],
   "source": [
    "text = \"12345\"\n",
    "table = str.maketrans({\"1\": \"one\", \"2\": \" two\", \"3\": \" three \"})\n",
    "new_text = text.translate(table)\n",
    "print(new_text)  #Dictionary ka use karke multiple characters/strings replace kar sakte hai\n"
   ]
  },
  {
   "cell_type": "code",
   "execution_count": 35,
   "id": "e08194fb-250b-4bae-99eb-06647ae7da13",
   "metadata": {},
   "outputs": [
    {
     "name": "stdout",
     "output_type": "stream",
     "text": [
      "ThIs Is The pyThon Code\n"
     ]
    }
   ],
   "source": [
    "# secode \n",
    "text2 = \"This is the python code\"\n",
    "table2 = str.maketrans({\"i\":\"I\", \"t\":\"T\", \"c\":\"C\"})\n",
    "new_text2 = text2.translate(table2)\n",
    "print(new_text2)"
   ]
  },
  {
   "cell_type": "code",
   "execution_count": null,
   "id": "26327eb2-8f4d-41a1-b491-ebeb17c6459f",
   "metadata": {},
   "outputs": [],
   "source": []
  }
 ],
 "metadata": {
  "kernelspec": {
   "display_name": "Python [conda env:base] *",
   "language": "python",
   "name": "conda-base-py"
  },
  "language_info": {
   "codemirror_mode": {
    "name": "ipython",
    "version": 3
   },
   "file_extension": ".py",
   "mimetype": "text/x-python",
   "name": "python",
   "nbconvert_exporter": "python",
   "pygments_lexer": "ipython3",
   "version": "3.13.5"
  }
 },
 "nbformat": 4,
 "nbformat_minor": 5
}
